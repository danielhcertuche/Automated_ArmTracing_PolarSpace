{
 "cells": [
  {
   "cell_type": "code",
   "execution_count": 1,
   "metadata": {},
   "outputs": [],
   "source": [
    "# 1. Importar librerías\n",
    "import pandas as pd\n",
    "import os\n",
    "import matplotlib.pyplot as plt\n"
   ]
  },
  {
   "cell_type": "code",
   "execution_count": 2,
   "metadata": {},
   "outputs": [
    {
     "name": "stdout",
     "output_type": "stream",
     "text": [
      "Shape del DataFrame: (377, 16)\n"
     ]
    },
    {
     "data": {
      "text/html": [
       "<div>\n",
       "<style scoped>\n",
       "    .dataframe tbody tr th:only-of-type {\n",
       "        vertical-align: middle;\n",
       "    }\n",
       "\n",
       "    .dataframe tbody tr th {\n",
       "        vertical-align: top;\n",
       "    }\n",
       "\n",
       "    .dataframe thead th {\n",
       "        text-align: right;\n",
       "    }\n",
       "</style>\n",
       "<table border=\"1\" class=\"dataframe\">\n",
       "  <thead>\n",
       "    <tr style=\"text-align: right;\">\n",
       "      <th></th>\n",
       "      <th>subhalo_id</th>\n",
       "      <th>subhalo_flag</th>\n",
       "      <th>logmass</th>\n",
       "      <th>logmass0</th>\n",
       "      <th>logmass1</th>\n",
       "      <th>logmass4</th>\n",
       "      <th>SubhaloCM_x</th>\n",
       "      <th>SubhaloCM_y</th>\n",
       "      <th>SubhaloCM_z</th>\n",
       "      <th>SubhaloVel_x</th>\n",
       "      <th>SubhaloVel_y</th>\n",
       "      <th>SubhaloVel_z</th>\n",
       "      <th>SubhaloHalfmassRad</th>\n",
       "      <th>MassInMaxRad</th>\n",
       "      <th>SubhaloVmax</th>\n",
       "      <th>SubhaloVmaxRad</th>\n",
       "    </tr>\n",
       "  </thead>\n",
       "  <tbody>\n",
       "    <tr>\n",
       "      <th>0</th>\n",
       "      <td>8</td>\n",
       "      <td>1</td>\n",
       "      <td>11.647152</td>\n",
       "      <td>10.393283</td>\n",
       "      <td>11.583234</td>\n",
       "      <td>10.555261</td>\n",
       "      <td>8072.731934</td>\n",
       "      <td>24390.031250</td>\n",
       "      <td>20883.591797</td>\n",
       "      <td>-913.311584</td>\n",
       "      <td>435.267853</td>\n",
       "      <td>270.353333</td>\n",
       "      <td>30.863125</td>\n",
       "      <td>10.063348</td>\n",
       "      <td>191.930206</td>\n",
       "      <td>0.951246</td>\n",
       "    </tr>\n",
       "    <tr>\n",
       "      <th>1</th>\n",
       "      <td>11</td>\n",
       "      <td>1</td>\n",
       "      <td>11.425411</td>\n",
       "      <td>9.980780</td>\n",
       "      <td>11.343677</td>\n",
       "      <td>10.557160</td>\n",
       "      <td>7052.748535</td>\n",
       "      <td>23818.259766</td>\n",
       "      <td>20350.101562</td>\n",
       "      <td>-538.551453</td>\n",
       "      <td>-294.423553</td>\n",
       "      <td>-505.909088</td>\n",
       "      <td>16.972178</td>\n",
       "      <td>10.899754</td>\n",
       "      <td>164.306885</td>\n",
       "      <td>8.905804</td>\n",
       "    </tr>\n",
       "    <tr>\n",
       "      <th>2</th>\n",
       "      <td>17</td>\n",
       "      <td>1</td>\n",
       "      <td>11.347348</td>\n",
       "      <td>9.895884</td>\n",
       "      <td>11.314726</td>\n",
       "      <td>9.914086</td>\n",
       "      <td>6441.108398</td>\n",
       "      <td>24251.062500</td>\n",
       "      <td>20290.275391</td>\n",
       "      <td>152.550003</td>\n",
       "      <td>323.026154</td>\n",
       "      <td>813.437622</td>\n",
       "      <td>27.491997</td>\n",
       "      <td>10.279755</td>\n",
       "      <td>129.189194</td>\n",
       "      <td>3.455755</td>\n",
       "    </tr>\n",
       "    <tr>\n",
       "      <th>3</th>\n",
       "      <td>19</td>\n",
       "      <td>1</td>\n",
       "      <td>11.280245</td>\n",
       "      <td>10.199933</td>\n",
       "      <td>11.228812</td>\n",
       "      <td>9.734790</td>\n",
       "      <td>7591.960938</td>\n",
       "      <td>23699.552734</td>\n",
       "      <td>21383.580078</td>\n",
       "      <td>-849.522217</td>\n",
       "      <td>518.035889</td>\n",
       "      <td>212.959473</td>\n",
       "      <td>19.645016</td>\n",
       "      <td>10.953233</td>\n",
       "      <td>121.560822</td>\n",
       "      <td>18.402559</td>\n",
       "    </tr>\n",
       "    <tr>\n",
       "      <th>4</th>\n",
       "      <td>29</td>\n",
       "      <td>1</td>\n",
       "      <td>11.070246</td>\n",
       "      <td>9.642655</td>\n",
       "      <td>11.031786</td>\n",
       "      <td>9.743365</td>\n",
       "      <td>8017.576172</td>\n",
       "      <td>24417.417969</td>\n",
       "      <td>21511.207031</td>\n",
       "      <td>190.021179</td>\n",
       "      <td>-407.687378</td>\n",
       "      <td>-1069.792969</td>\n",
       "      <td>15.483538</td>\n",
       "      <td>9.829009</td>\n",
       "      <td>131.933731</td>\n",
       "      <td>1.173695</td>\n",
       "    </tr>\n",
       "  </tbody>\n",
       "</table>\n",
       "</div>"
      ],
      "text/plain": [
       "   subhalo_id  subhalo_flag    logmass   logmass0   logmass1   logmass4  \\\n",
       "0           8             1  11.647152  10.393283  11.583234  10.555261   \n",
       "1          11             1  11.425411   9.980780  11.343677  10.557160   \n",
       "2          17             1  11.347348   9.895884  11.314726   9.914086   \n",
       "3          19             1  11.280245  10.199933  11.228812   9.734790   \n",
       "4          29             1  11.070246   9.642655  11.031786   9.743365   \n",
       "\n",
       "   SubhaloCM_x   SubhaloCM_y   SubhaloCM_z  SubhaloVel_x  SubhaloVel_y  \\\n",
       "0  8072.731934  24390.031250  20883.591797   -913.311584    435.267853   \n",
       "1  7052.748535  23818.259766  20350.101562   -538.551453   -294.423553   \n",
       "2  6441.108398  24251.062500  20290.275391    152.550003    323.026154   \n",
       "3  7591.960938  23699.552734  21383.580078   -849.522217    518.035889   \n",
       "4  8017.576172  24417.417969  21511.207031    190.021179   -407.687378   \n",
       "\n",
       "   SubhaloVel_z  SubhaloHalfmassRad  MassInMaxRad  SubhaloVmax  SubhaloVmaxRad  \n",
       "0    270.353333           30.863125     10.063348   191.930206        0.951246  \n",
       "1   -505.909088           16.972178     10.899754   164.306885        8.905804  \n",
       "2    813.437622           27.491997     10.279755   129.189194        3.455755  \n",
       "3    212.959473           19.645016     10.953233   121.560822       18.402559  \n",
       "4  -1069.792969           15.483538      9.829009   131.933731        1.173695  "
      ]
     },
     "execution_count": 2,
     "metadata": {},
     "output_type": "execute_result"
    }
   ],
   "source": [
    "# 1. Cargar el CSV filtrado\n",
    "df = pd.read_csv('filtered_mass_info.csv')\n",
    "print(f\"Shape del DataFrame: {df.shape}\")\n",
    "df.head()\n"
   ]
  },
  {
   "cell_type": "code",
   "execution_count": 3,
   "metadata": {},
   "outputs": [
    {
     "name": "stdout",
     "output_type": "stream",
     "text": [
      "count    377.000000\n",
      "mean      11.583833\n",
      "std        0.674891\n",
      "min       10.318788\n",
      "25%       11.002152\n",
      "50%       11.435564\n",
      "75%       12.257003\n",
      "max       13.158437\n",
      "Name: logmass, dtype: float64\n"
     ]
    }
   ],
   "source": [
    "stats = df['logmass'].describe()\n",
    "print(stats)\n"
   ]
  },
  {
   "cell_type": "code",
   "execution_count": 11,
   "metadata": {},
   "outputs": [
    {
     "data": {
      "image/png": "[encoded data removed]",
      "text/plain": [
       "<Figure size 576x360 with 1 Axes>"
      ]
     },
     "metadata": {
      "needs_background": "light"
     },
     "output_type": "display_data"
    }
   ],
   "source": [
    "plt.figure(figsize=(8,5))\n",
    "plt.hist(df['logmass'], bins=30)\n",
    "plt.xlabel('logmass')\n",
    "plt.ylabel('Número de subhalos')\n",
    "plt.title('Distribución de logmass para subhalos filtrados')\n",
    "plt.tight_layout()\n",
    "plt.show()\n"
   ]
  },
  {
   "cell_type": "code",
   "execution_count": 12,
   "metadata": {},
   "outputs": [
    {
     "data": {
      "image/png": "[encoded data removed]",
      "text/plain": [
       "<Figure size 576x360 with 1 Axes>"
      ]
     },
     "metadata": {
      "needs_background": "light"
     },
     "output_type": "display_data"
    }
   ],
   "source": [
    "plt.figure(figsize=(8,5))\n",
    "plt.hist(df['logmass0'], bins=30)\n",
    "plt.xlabel('logmass')\n",
    "plt.ylabel('Número de subhalos')\n",
    "plt.title('Distribución de logmass0 para subhalos filtrados')\n",
    "plt.tight_layout()S\n",
    "plt.show()\n"
   ]
  },
  {
   "cell_type": "code",
   "execution_count": 19,
   "metadata": {},
   "outputs": [
    {
     "name": "stdout",
     "output_type": "stream",
     "text": [
      "Subhalos con logmass0 > 11: 78 de 377\n"
     ]
    },
    {
     "data": {
      "text/html": [
       "<div>\n",
       "<style scoped>\n",
       "    .dataframe tbody tr th:only-of-type {\n",
       "        vertical-align: middle;\n",
       "    }\n",
       "\n",
       "    .dataframe tbody tr th {\n",
       "        vertical-align: top;\n",
       "    }\n",
       "\n",
       "    .dataframe thead th {\n",
       "        text-align: right;\n",
       "    }\n",
       "</style>\n",
       "<table border=\"1\" class=\"dataframe\">\n",
       "  <thead>\n",
       "    <tr style=\"text-align: right;\">\n",
       "      <th></th>\n",
       "      <th>subhalo_id</th>\n",
       "      <th>subhalo_flag</th>\n",
       "      <th>logmass</th>\n",
       "      <th>logmass0</th>\n",
       "      <th>logmass1</th>\n",
       "      <th>logmass4</th>\n",
       "      <th>SubhaloCM_x</th>\n",
       "      <th>SubhaloCM_y</th>\n",
       "      <th>SubhaloCM_z</th>\n",
       "      <th>SubhaloVel_x</th>\n",
       "      <th>SubhaloVel_y</th>\n",
       "      <th>SubhaloVel_z</th>\n",
       "      <th>SubhaloHalfmassRad</th>\n",
       "      <th>MassInMaxRad</th>\n",
       "      <th>SubhaloVmax</th>\n",
       "      <th>SubhaloVmaxRad</th>\n",
       "      <th>M_phys</th>\n",
       "    </tr>\n",
       "  </thead>\n",
       "  <tbody>\n",
       "    <tr>\n",
       "      <th>26</th>\n",
       "      <td>117251</td>\n",
       "      <td>1</td>\n",
       "      <td>12.715874</td>\n",
       "      <td>11.182425</td>\n",
       "      <td>12.671854</td>\n",
       "      <td>11.541917</td>\n",
       "      <td>15852.063477</td>\n",
       "      <td>29990.886719</td>\n",
       "      <td>26476.662109</td>\n",
       "      <td>109.699173</td>\n",
       "      <td>-336.540710</td>\n",
       "      <td>-405.832794</td>\n",
       "      <td>83.478020</td>\n",
       "      <td>10.815164</td>\n",
       "      <td>467.490814</td>\n",
       "      <td>0.905422</td>\n",
       "      <td>7.674124e+22</td>\n",
       "    </tr>\n",
       "    <tr>\n",
       "      <th>44</th>\n",
       "      <td>143881</td>\n",
       "      <td>1</td>\n",
       "      <td>12.734589</td>\n",
       "      <td>11.380262</td>\n",
       "      <td>12.690386</td>\n",
       "      <td>11.454335</td>\n",
       "      <td>19896.052734</td>\n",
       "      <td>4876.937012</td>\n",
       "      <td>31212.171875</td>\n",
       "      <td>355.978699</td>\n",
       "      <td>-39.190361</td>\n",
       "      <td>49.218502</td>\n",
       "      <td>90.170563</td>\n",
       "      <td>10.777838</td>\n",
       "      <td>422.379700</td>\n",
       "      <td>1.017805</td>\n",
       "      <td>8.012053e+22</td>\n",
       "    </tr>\n",
       "    <tr>\n",
       "      <th>45</th>\n",
       "      <td>143882</td>\n",
       "      <td>1</td>\n",
       "      <td>12.541362</td>\n",
       "      <td>11.137215</td>\n",
       "      <td>12.487091</td>\n",
       "      <td>11.432684</td>\n",
       "      <td>21913.775391</td>\n",
       "      <td>5525.770020</td>\n",
       "      <td>31517.316406</td>\n",
       "      <td>-394.563263</td>\n",
       "      <td>-51.088017</td>\n",
       "      <td>-133.777222</td>\n",
       "      <td>59.504795</td>\n",
       "      <td>8.791711</td>\n",
       "      <td>531.463989</td>\n",
       "      <td>0.006637</td>\n",
       "      <td>5.134720e+22</td>\n",
       "    </tr>\n",
       "    <tr>\n",
       "      <th>59</th>\n",
       "      <td>167393</td>\n",
       "      <td>1</td>\n",
       "      <td>12.915421</td>\n",
       "      <td>11.599098</td>\n",
       "      <td>12.868395</td>\n",
       "      <td>11.649881</td>\n",
       "      <td>17228.904297</td>\n",
       "      <td>34433.078125</td>\n",
       "      <td>28915.982422</td>\n",
       "      <td>-131.381454</td>\n",
       "      <td>49.034683</td>\n",
       "      <td>135.642853</td>\n",
       "      <td>89.969376</td>\n",
       "      <td>10.964853</td>\n",
       "      <td>463.010834</td>\n",
       "      <td>1.302871</td>\n",
       "      <td>1.214999e+23</td>\n",
       "    </tr>\n",
       "    <tr>\n",
       "      <th>79</th>\n",
       "      <td>208812</td>\n",
       "      <td>1</td>\n",
       "      <td>12.186309</td>\n",
       "      <td>11.059265</td>\n",
       "      <td>12.131081</td>\n",
       "      <td>10.836470</td>\n",
       "      <td>3757.386719</td>\n",
       "      <td>19487.414062</td>\n",
       "      <td>13260.902344</td>\n",
       "      <td>241.693054</td>\n",
       "      <td>-101.213936</td>\n",
       "      <td>-231.943100</td>\n",
       "      <td>66.246529</td>\n",
       "      <td>10.041961</td>\n",
       "      <td>230.865295</td>\n",
       "      <td>0.625880</td>\n",
       "      <td>2.267064e+22</td>\n",
       "    </tr>\n",
       "    <tr>\n",
       "      <th>134</th>\n",
       "      <td>307485</td>\n",
       "      <td>1</td>\n",
       "      <td>13.071914</td>\n",
       "      <td>11.879989</td>\n",
       "      <td>13.035088</td>\n",
       "      <td>11.302030</td>\n",
       "      <td>16376.669922</td>\n",
       "      <td>21186.531250</td>\n",
       "      <td>21900.238281</td>\n",
       "      <td>-4.306412</td>\n",
       "      <td>165.065536</td>\n",
       "      <td>-38.246002</td>\n",
       "      <td>191.946060</td>\n",
       "      <td>10.799116</td>\n",
       "      <td>431.021576</td>\n",
       "      <td>1.026482</td>\n",
       "      <td>1.742083e+23</td>\n",
       "    </tr>\n",
       "    <tr>\n",
       "      <th>135</th>\n",
       "      <td>307486</td>\n",
       "      <td>1</td>\n",
       "      <td>12.435020</td>\n",
       "      <td>11.061507</td>\n",
       "      <td>12.365015</td>\n",
       "      <td>11.461866</td>\n",
       "      <td>16520.468750</td>\n",
       "      <td>21099.982422</td>\n",
       "      <td>21909.527344</td>\n",
       "      <td>-284.269073</td>\n",
       "      <td>192.735901</td>\n",
       "      <td>-99.969666</td>\n",
       "      <td>37.919941</td>\n",
       "      <td>10.905630</td>\n",
       "      <td>472.350830</td>\n",
       "      <td>1.092276</td>\n",
       "      <td>4.019526e+22</td>\n",
       "    </tr>\n",
       "  </tbody>\n",
       "</table>\n",
       "</div>"
      ],
      "text/plain": [
       "     subhalo_id  subhalo_flag    logmass   logmass0   logmass1   logmass4  \\\n",
       "26       117251             1  12.715874  11.182425  12.671854  11.541917   \n",
       "44       143881             1  12.734589  11.380262  12.690386  11.454335   \n",
       "45       143882             1  12.541362  11.137215  12.487091  11.432684   \n",
       "59       167393             1  12.915421  11.599098  12.868395  11.649881   \n",
       "79       208812             1  12.186309  11.059265  12.131081  10.836470   \n",
       "134      307485             1  13.071914  11.879989  13.035088  11.302030   \n",
       "135      307486             1  12.435020  11.061507  12.365015  11.461866   \n",
       "\n",
       "      SubhaloCM_x   SubhaloCM_y   SubhaloCM_z  SubhaloVel_x  SubhaloVel_y  \\\n",
       "26   15852.063477  29990.886719  26476.662109    109.699173   -336.540710   \n",
       "44   19896.052734   4876.937012  31212.171875    355.978699    -39.190361   \n",
       "45   21913.775391   5525.770020  31517.316406   -394.563263    -51.088017   \n",
       "59   17228.904297  34433.078125  28915.982422   -131.381454     49.034683   \n",
       "79    3757.386719  19487.414062  13260.902344    241.693054   -101.213936   \n",
       "134  16376.669922  21186.531250  21900.238281     -4.306412    165.065536   \n",
       "135  16520.468750  21099.982422  21909.527344   -284.269073    192.735901   \n",
       "\n",
       "     SubhaloVel_z  SubhaloHalfmassRad  MassInMaxRad  SubhaloVmax  \\\n",
       "26    -405.832794           83.478020     10.815164   467.490814   \n",
       "44      49.218502           90.170563     10.777838   422.379700   \n",
       "45    -133.777222           59.504795      8.791711   531.463989   \n",
       "59     135.642853           89.969376     10.964853   463.010834   \n",
       "79    -231.943100           66.246529     10.041961   230.865295   \n",
       "134    -38.246002          191.946060     10.799116   431.021576   \n",
       "135    -99.969666           37.919941     10.905630   472.350830   \n",
       "\n",
       "     SubhaloVmaxRad        M_phys  \n",
       "26         0.905422  7.674124e+22  \n",
       "44         1.017805  8.012053e+22  \n",
       "45         0.006637  5.134720e+22  \n",
       "59         1.302871  1.214999e+23  \n",
       "79         0.625880  2.267064e+22  \n",
       "134        1.026482  1.742083e+23  \n",
       "135        1.092276  4.019526e+22  "
      ]
     },
     "execution_count": 19,
     "metadata": {},
     "output_type": "execute_result"
    }
   ],
   "source": [
    "\n",
    "df_log0_gt11 = df[df['logmass0'] > 11]\n",
    "                  \n",
    "print(f\"Subhalos con logmass0 > 11: {df_log0_gt11.shape[0]} de {df.shape[0]}\")\n",
    "\n",
    "df_log0_gt11.head(7)\n"
   ]
  },
  {
   "cell_type": "code",
   "execution_count": null,
   "metadata": {},
   "outputs": [],
   "source": []
  },
  {
   "cell_type": "code",
   "execution_count": 15,
   "metadata": {},
   "outputs": [
    {
     "data": {
      "image/png": "[encoded data removed]",
      "text/plain": [
       "<Figure size 576x360 with 1 Axes>"
      ]
     },
     "metadata": {
      "needs_background": "light"
     },
     "output_type": "display_data"
    }
   ],
   "source": [
    "plt.figure(figsize=(8,5))\n",
    "plt.hist(df['logmass4'], bins=20)\n",
    "plt.xlabel('logmass')\n",
    "plt.ylabel('Número de subhalos')\n",
    "plt.title('Distribución de logmass0 para subhalos filtrados')\n",
    "plt.tight_layout()\n",
    "plt.show()"
   ]
  },
  {
   "cell_type": "code",
   "execution_count": 6,
   "metadata": {},
   "outputs": [],
   "source": [
    "import numpy as np\n",
    "\n",
    "h = 0.6774\n",
    "M_phys_thresh = 1e9            # 10^9 M_sun\n",
    "log_thresh = np.log10(M_phys_thresh * h / 1e10)\n",
    "# log_thresh ≃ np.log10(0.06774) ≃ -1.17\n"
   ]
  },
  {
   "cell_type": "code",
   "execution_count": 7,
   "metadata": {},
   "outputs": [
    {
     "data": {
      "text/plain": [
       "-1.1691548076913885"
      ]
     },
     "execution_count": 7,
     "metadata": {},
     "output_type": "execute_result"
    }
   ],
   "source": [
    "log_thresh"
   ]
  },
  {
   "cell_type": "code",
   "execution_count": null,
   "metadata": {},
   "outputs": [],
   "source": [
    "S"
   ]
  }
 ],
 "metadata": {
  "kernelspec": {
   "display_name": "Python 3",
   "language": "python",
   "name": "python3"
  },
  "language_info": {
   "codemirror_mode": {
    "name": "ipython",
    "version": 3
   },
   "file_extension": ".py",
   "mimetype": "text/x-python",
   "name": "python",
   "nbconvert_exporter": "python",
   "pygments_lexer": "ipython3",
   "version": "3.7.0"
  }
 },
 "nbformat": 4,
 "nbformat_minor": 2
}
